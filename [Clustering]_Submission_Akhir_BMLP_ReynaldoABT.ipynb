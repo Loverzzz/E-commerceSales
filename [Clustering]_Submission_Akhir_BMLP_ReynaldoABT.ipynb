{
  "nbformat": 4,
  "nbformat_minor": 0,
  "metadata": {
    "colab": {
      "provenance": [],
      "gpuType": "V28",
      "include_colab_link": true
    },
    "kernelspec": {
      "name": "python3",
      "display_name": "Python 3"
    },
    "language_info": {
      "name": "python"
    },
    "accelerator": "TPU"
  },
  "cells": [
    {
      "cell_type": "markdown",
      "metadata": {
        "id": "view-in-github",
        "colab_type": "text"
      },
      "source": [
        "<a href=\"https://colab.research.google.com/github/Loverzzz/E-commerceSales/blob/main/%5BClustering%5D_Submission_Akhir_BMLP_ReynaldoABT.ipynb\" target=\"_parent\"><img src=\"https://colab.research.google.com/assets/colab-badge.svg\" alt=\"Open In Colab\"/></a>"
      ]
    },
    {
      "cell_type": "markdown",
      "source": [
        "# **1. Perkenalan Dataset**\n"
      ],
      "metadata": {
        "id": "kZLRMFl0JyyQ"
      }
    },
    {
      "cell_type": "markdown",
      "source": [
        "Tahap pertama, Anda harus mencari dan menggunakan dataset **tanpa label** dengan ketentuan sebagai berikut:\n",
        "\n",
        "1. **Sumber Dataset**:  \n",
        "   Dataset dapat diperoleh dari berbagai sumber, seperti public repositories (*Kaggle*, *UCI ML Repository*, *Open Data*) atau data primer yang Anda kumpulkan sendiri.\n",
        "   \n",
        "2. **Ketentuan Dataset**:\n",
        "   - **Tanpa label**: Dataset tidak boleh memiliki label atau kelas.\n",
        "   - **Jumlah Baris**: Minimal 1000 baris untuk memastikan dataset cukup besar untuk analisis yang bermakna.\n",
        "   - **Tipe Data**: Harus mengandung data **kategorikal** dan **numerikal**.\n",
        "     - *Kategorikal*: Misalnya jenis kelamin, kategori produk.\n",
        "     - *Numerikal*: Misalnya usia, pendapatan, harga.\n",
        "\n",
        "3. **Pembatasan**:  \n",
        "   Dataset yang sudah digunakan dalam latihan clustering (seperti customer segmentation) tidak boleh digunakan."
      ],
      "metadata": {
        "id": "hssSDn-5n3HR"
      }
    },
    {
      "cell_type": "markdown",
      "source": [
        "# **2. Import Library**"
      ],
      "metadata": {
        "id": "fKADPWcFKlj3"
      }
    },
    {
      "cell_type": "markdown",
      "source": [
        "Pada tahap ini, Anda perlu mengimpor beberapa pustaka (library) Python yang dibutuhkan untuk analisis data dan pembangunan model machine learning."
      ],
      "metadata": {
        "id": "LgA3ERnVn84N"
      }
    },
    {
      "cell_type": "code",
      "source": [
        "import pandas as pd\n",
        "import numpy as np\n",
        "import matplotlib.pyplot as plt\n",
        "import seaborn as sns\n",
        "from sklearn.preprocessing import StandardScaler\n",
        "from sklearn.cluster import DBSCAN\n",
        "from sklearn.metrics import silhouette_score"
      ],
      "metadata": {
        "id": "BlmvjLY9M4Yj"
      },
      "execution_count": 2,
      "outputs": []
    },
    {
      "cell_type": "markdown",
      "source": [
        "# **3. Memuat Dataset**"
      ],
      "metadata": {
        "id": "f3YIEnAFKrKL"
      }
    },
    {
      "cell_type": "markdown",
      "source": [
        "Pada tahap ini, Anda perlu memuat dataset ke dalam notebook. Jika dataset dalam format CSV, Anda bisa menggunakan pustaka pandas untuk membacanya. Pastikan untuk mengecek beberapa baris awal dataset untuk memahami strukturnya dan memastikan data telah dimuat dengan benar.\n",
        "\n",
        "Jika dataset berada di Google Drive, pastikan Anda menghubungkan Google Drive ke Colab terlebih dahulu. Setelah dataset berhasil dimuat, langkah berikutnya adalah memeriksa kesesuaian data dan siap untuk dianalisis lebih lanjut."
      ],
      "metadata": {
        "id": "Ey3ItwTen_7E"
      }
    },
    {
      "cell_type": "code",
      "source": [
        "from google.colab import drive\n",
        "drive.mount('/content/drive')"
      ],
      "metadata": {
        "colab": {
          "base_uri": "https://localhost:8080/"
        },
        "id": "l7KkqWn7G4eo",
        "outputId": "820a66f5-0afa-4985-f594-71260054911d"
      },
      "execution_count": null,
      "outputs": [
        {
          "output_type": "stream",
          "name": "stdout",
          "text": [
            "Drive already mounted at /content/drive; to attempt to forcibly remount, call drive.mount(\"/content/drive\", force_remount=True).\n"
          ]
        }
      ]
    },
    {
      "cell_type": "code",
      "source": [
        "data = pd.read_csv('/content/data.csv', encoding='ISO-8859-1')  # Ganti dengan path file Anda\n",
        "print(data.head())"
      ],
      "metadata": {
        "id": "GHCGNTyrM5fS",
        "colab": {
          "base_uri": "https://localhost:8080/"
        },
        "outputId": "85cc9f1e-9a4b-4c31-fef0-a967d072310d"
      },
      "execution_count": 5,
      "outputs": [
        {
          "output_type": "stream",
          "name": "stdout",
          "text": [
            "  InvoiceNo StockCode                          Description  Quantity  \\\n",
            "0    536365    85123A   WHITE HANGING HEART T-LIGHT HOLDER         6   \n",
            "1    536365     71053                  WHITE METAL LANTERN         6   \n",
            "2    536365    84406B       CREAM CUPID HEARTS COAT HANGER         8   \n",
            "3    536365    84029G  KNITTED UNION FLAG HOT WATER BOTTLE         6   \n",
            "4    536365    84029E       RED WOOLLY HOTTIE WHITE HEART.         6   \n",
            "\n",
            "      InvoiceDate  UnitPrice  CustomerID         Country  \n",
            "0  12/1/2010 8:26       2.55     17850.0  United Kingdom  \n",
            "1  12/1/2010 8:26       3.39     17850.0  United Kingdom  \n",
            "2  12/1/2010 8:26       2.75     17850.0  United Kingdom  \n",
            "3  12/1/2010 8:26       3.39     17850.0  United Kingdom  \n",
            "4  12/1/2010 8:26       3.39     17850.0  United Kingdom  \n"
          ]
        }
      ]
    },
    {
      "cell_type": "code",
      "source": [
        "# Mengambil baris secara acak\n",
        "data_sampled = data.sample(n=5000, random_state=42)"
      ],
      "metadata": {
        "id": "_KdTpJjPS60F"
      },
      "execution_count": null,
      "outputs": []
    },
    {
      "cell_type": "code",
      "source": [
        "data_sampled = pd.read_csv('/content/data_sampled.csv', encoding='ISO-8859-1')\n",
        "print(data_sampled.head())"
      ],
      "metadata": {
        "colab": {
          "base_uri": "https://localhost:8080/"
        },
        "id": "6I5-LBHlnaQs",
        "outputId": "3f2d7b7e-e3c6-40ed-f92e-2a64712addf1"
      },
      "execution_count": 10,
      "outputs": [
        {
          "output_type": "stream",
          "name": "stdout",
          "text": [
            "  InvoiceNo StockCode                       Description  Quantity  \\\n",
            "0    555200     71459    HANGING JAM JAR T-LIGHT HOLDER        24   \n",
            "1    554974     21128                GOLD FISHING GNOME         4   \n",
            "2    550972     21086       SET/6 RED SPOTTY PAPER CUPS         4   \n",
            "3    576652     22812  PACK 3 BOXES CHRISTMAS PANETTONE         3   \n",
            "4    546157     22180                    RETROSPOT LAMP         2   \n",
            "\n",
            "        InvoiceDate  UnitPrice  CustomerID         Country  Cluster      PCA1  \\\n",
            "0    6/1/2011 12:05       0.85     17315.0  United Kingdom        0 -0.372383   \n",
            "1   5/27/2011 17:14       6.95     14031.0  United Kingdom        0  0.551793   \n",
            "2   4/21/2011 17:05       0.65     14031.0  United Kingdom        0 -0.192493   \n",
            "3  11/16/2011 10:39       1.95     17198.0  United Kingdom        0 -0.028734   \n",
            "4    3/10/2011 8:40       9.95     13502.0  United Kingdom        0  0.926567   \n",
            "\n",
            "       PCA2  \n",
            "0 -0.138304  \n",
            "1  0.378835  \n",
            "2 -0.365451  \n",
            "3 -0.222044  \n",
            "4  0.712905  \n"
          ]
        }
      ]
    },
    {
      "cell_type": "markdown",
      "source": [
        "# **4. Exploratory Data Analysis (EDA)**\n",
        "\n",
        "Pada tahap ini, Anda akan melakukan **Exploratory Data Analysis (EDA)** untuk memahami karakteristik dataset. EDA bertujuan untuk:\n",
        "\n",
        "1. **Memahami Struktur Data**\n",
        "   - Tinjau jumlah baris dan kolom dalam dataset.  \n",
        "   - Tinjau jenis data di setiap kolom (numerikal atau kategorikal).\n",
        "\n",
        "2. **Menangani Data yang Hilang**  \n",
        "   - Identifikasi dan analisis data yang hilang (*missing values*). Tentukan langkah-langkah yang diperlukan untuk menangani data yang hilang, seperti pengisian atau penghapusan data tersebut.\n",
        "\n",
        "3. **Analisis Distribusi dan Korelasi**  \n",
        "   - Analisis distribusi variabel numerik dengan statistik deskriptif dan visualisasi seperti histogram atau boxplot.  \n",
        "   - Periksa hubungan antara variabel menggunakan matriks korelasi atau scatter plot.\n",
        "\n",
        "4. **Visualisasi Data**  \n",
        "   - Buat visualisasi dasar seperti grafik distribusi dan diagram batang untuk variabel kategorikal.  \n",
        "   - Gunakan heatmap atau pairplot untuk menganalisis korelasi antar variabel.\n",
        "\n",
        "Tujuan dari EDA adalah untuk memperoleh wawasan awal yang mendalam mengenai data dan menentukan langkah selanjutnya dalam analisis atau pemodelan."
      ],
      "metadata": {
        "id": "bgZkbJLpK9UR"
      }
    },
    {
      "cell_type": "code",
      "source": [
        "# Memahami Struktur Data\n",
        "print(\"Jumlah baris dan kolom:\", data_sampled.shape)\n",
        "print(\"Jenis data di setiap kolom:\\n\", data_sampled.dtypes)"
      ],
      "metadata": {
        "id": "dKeejtvxM6X1",
        "colab": {
          "base_uri": "https://localhost:8080/"
        },
        "outputId": "3c6c4a4b-bae2-46d3-82fb-698ab81544c0"
      },
      "execution_count": 11,
      "outputs": [
        {
          "output_type": "stream",
          "name": "stdout",
          "text": [
            "Jumlah baris dan kolom: (3734, 11)\n",
            "Jenis data di setiap kolom:\n",
            " InvoiceNo       object\n",
            "StockCode       object\n",
            "Description     object\n",
            "Quantity         int64\n",
            "InvoiceDate     object\n",
            "UnitPrice      float64\n",
            "CustomerID     float64\n",
            "Country         object\n",
            "Cluster          int64\n",
            "PCA1           float64\n",
            "PCA2           float64\n",
            "dtype: object\n"
          ]
        }
      ]
    },
    {
      "cell_type": "code",
      "source": [
        "# Menangani Data yang Hilang\n",
        "missing_values = data_sampled.isnull().sum()\n",
        "print(\"Data yang hilang:\\n\", missing_values[missing_values > 0])\n",
        "\n",
        "# Contoh penanganan missing values\n",
        "# data.fillna(data.mean(), inplace=True)  # Mengisi dengan rata-rata untuk kolom numerikal\n",
        "data_sampled.dropna(inplace=True) # Atau hapus baris dengan missing values"
      ],
      "metadata": {
        "id": "DD-8plSNHqIV",
        "outputId": "a07c05a4-6b21-4046-b9ab-6ae192131df3",
        "colab": {
          "base_uri": "https://localhost:8080/"
        }
      },
      "execution_count": 12,
      "outputs": [
        {
          "output_type": "stream",
          "name": "stdout",
          "text": [
            "Data yang hilang:\n",
            " Series([], dtype: int64)\n"
          ]
        }
      ]
    },
    {
      "cell_type": "code",
      "source": [
        "# Memeriksa kembali data yang hilang\n",
        "missing_values = data_sampled.isnull().sum()\n",
        "print(\"Data yang hilang setelah penanganan:\\n\", missing_values[missing_values > 0])"
      ],
      "metadata": {
        "id": "shbBzaxPOC2_",
        "outputId": "8f504bdf-3043-499d-eb24-41c6b7f57f8b",
        "colab": {
          "base_uri": "https://localhost:8080/"
        }
      },
      "execution_count": 13,
      "outputs": [
        {
          "output_type": "stream",
          "name": "stdout",
          "text": [
            "Data yang hilang setelah penanganan:\n",
            " Series([], dtype: int64)\n"
          ]
        }
      ]
    },
    {
      "cell_type": "markdown",
      "source": [
        "# **5. Data Preprocessing**"
      ],
      "metadata": {
        "id": "cpgHfgnSK3ip"
      }
    },
    {
      "cell_type": "markdown",
      "source": [
        "Pada tahap ini, data preprocessing adalah langkah penting untuk memastikan kualitas data sebelum digunakan dalam model machine learning. Data mentah sering kali mengandung nilai kosong, duplikasi, atau rentang nilai yang tidak konsisten, yang dapat memengaruhi kinerja model. Oleh karena itu, proses ini bertujuan untuk membersihkan dan mempersiapkan data agar analisis berjalan optimal.\n",
        "\n",
        "Berikut adalah tahapan-tahapan yang perlu dilakukan, namun **tidak terbatas** pada:\n",
        "1. Menghapus atau Menangani Data Kosong (Missing Values)\n",
        "2. Menghapus Data Duplikat\n",
        "3. Normalisasi atau Standarisasi Fitur\n",
        "4. Deteksi dan Penanganan Outlier\n",
        "5. Encoding Data Kategorikal\n",
        "6. Binning (Pengelompokan Data)"
      ],
      "metadata": {
        "id": "COf8KUPXLg5r"
      }
    },
    {
      "cell_type": "code",
      "source": [
        "# Menghapus atau Menangani Data Kosong (Missing Values)\n",
        "data_sampled.dropna(inplace=True)\n",
        "\n",
        "# Menghapus Data Duplikat\n",
        "data_sampled.drop_duplicates(inplace=True)"
      ],
      "metadata": {
        "id": "BMrZvY3AM-ls"
      },
      "execution_count": 14,
      "outputs": []
    },
    {
      "cell_type": "code",
      "source": [
        "# Menghapus Outlier pada UnitPrice\n",
        "Q1 = data_sampled['UnitPrice'].quantile(0.25)\n",
        "Q3 = data_sampled['UnitPrice'].quantile(0.75)\n",
        "IQR = Q3 - Q1\n",
        "lower_bound = Q1 - 1.5 * IQR\n",
        "upper_bound = Q3 + 1.5 * IQR\n",
        "data_sampled = data_sampled[(data_sampled['UnitPrice'] >= lower_bound) & (data_sampled['UnitPrice'] <= upper_bound)]\n",
        "\n",
        "# Menghapus Outlier pada Quantity\n",
        "Q1 = data_sampled['Quantity'].quantile(0.25)\n",
        "Q3 = data_sampled['Quantity'].quantile(0.75)\n",
        "IQR = Q3 - Q1\n",
        "lower_bound = Q1 - 1.5 * IQR\n",
        "upper_bound = Q3 + 1.5 * IQR\n",
        "data_sampled = data_sampled[(data_sampled['Quantity'] >= lower_bound) & (data_sampled['Quantity'] <= upper_bound)]\n",
        "\n",
        "# Menghapus nilai negatif pada Quantity\n",
        "data_sampled = data_sampled[data_sampled['Quantity'] >= 0]"
      ],
      "metadata": {
        "id": "QG60b5eFM8Ts"
      },
      "execution_count": 15,
      "outputs": []
    },
    {
      "cell_type": "code",
      "source": [
        "# Visualisasi Distribusi UnitPrice\n",
        "plt.figure(figsize=(12, 6))\n",
        "sns.histplot(data_sampled['UnitPrice'], bins=50, kde=True)\n",
        "plt.title('Distribusi Unit Price')\n",
        "plt.xlabel('Unit Price')\n",
        "plt.ylabel('Count')\n",
        "plt.show()\n",
        "\n",
        "# Visualisasi Distribusi Quantity\n",
        "plt.figure(figsize=(12, 6))\n",
        "sns.histplot(data_sampled['Quantity'], bins=50, kde=True)\n",
        "plt.title('Distribusi Quantity')\n",
        "plt.xlabel('Quantity')\n",
        "plt.ylabel('Count')\n",
        "plt.show()\n"
      ],
      "metadata": {
        "colab": {
          "base_uri": "https://localhost:8080/",
          "height": 1000
        },
        "id": "hwVbMUVrNPCA",
        "outputId": "1b0391ca-16aa-4ac3-b4b6-cdba46b70583"
      },
      "execution_count": 16,
      "outputs": [
        {
          "output_type": "display_data",
          "data": {
            "text/plain": [
              "<Figure size 1200x600 with 1 Axes>"
            ],
            "image/png": "[encoded data removed]"
          },
          "metadata": {}
        },
        {
          "output_type": "display_data",
          "data": {
            "text/plain": [
              "<Figure size 1200x600 with 1 Axes>"
            ],
            "image/png": "[encoded data removed]"
          },
          "metadata": {}
        }
      ]
    },
    {
      "cell_type": "code",
      "source": [
        "# Normalisasi Data Numerikal\n",
        "scaler = StandardScaler()\n",
        "data_sampled[['Quantity', 'UnitPrice']] = scaler.fit_transform(data_sampled[['Quantity', 'UnitPrice']])\n",
        "\n",
        "# Encoding Data Kategorikal (Country)\n",
        "data_encoded = pd.get_dummies(data_sampled, columns=['Country'], drop_first=True)\n",
        "\n",
        "# Menentukan Fitur Clustering\n",
        "features = ['UnitPrice'] + [col for col in data_encoded.columns if 'Country_' in col]\n",
        "print(\"Fitur yang digunakan untuk clustering:\", features)\n"
      ],
      "metadata": {
        "id": "WzBGjcbQM7N8",
        "colab": {
          "base_uri": "https://localhost:8080/"
        },
        "outputId": "f7ce6636-c9cd-414d-bb03-1ca877e7d27e"
      },
      "execution_count": 17,
      "outputs": [
        {
          "output_type": "stream",
          "name": "stdout",
          "text": [
            "Fitur yang digunakan untuk clustering: ['UnitPrice', 'Country_Austria', 'Country_Belgium', 'Country_Canada', 'Country_Channel Islands', 'Country_Cyprus', 'Country_Denmark', 'Country_EIRE', 'Country_European Community', 'Country_Finland', 'Country_France', 'Country_Germany', 'Country_Greece', 'Country_Iceland', 'Country_Italy', 'Country_Japan', 'Country_Netherlands', 'Country_Norway', 'Country_Poland', 'Country_Portugal', 'Country_RSA', 'Country_Singapore', 'Country_Spain', 'Country_Sweden', 'Country_Switzerland', 'Country_USA', 'Country_United Arab Emirates', 'Country_United Kingdom', 'Country_Unspecified']\n"
          ]
        }
      ]
    },
    {
      "cell_type": "markdown",
      "source": [
        "# **6. Pembangunan Model Clustering**"
      ],
      "metadata": {
        "id": "BR73dCnrLEiq"
      }
    },
    {
      "cell_type": "markdown",
      "source": [
        "## **a. Pembangunan Model Clustering**"
      ],
      "metadata": {
        "id": "Fkd_QHXWMBDr"
      }
    },
    {
      "cell_type": "markdown",
      "source": [
        "Pada tahap ini, Anda membangun model clustering dengan memilih algoritma yang sesuai untuk mengelompokkan data berdasarkan kesamaan. Berikut adalah **rekomendasi** tahapannya.\n",
        "1. Pilih algoritma clustering yang sesuai.\n",
        "2. Latih model dengan data menggunakan algoritma tersebut."
      ],
      "metadata": {
        "id": "Kn6Y2qbqMVLP"
      }
    },
    {
      "cell_type": "code",
      "source": [
        "from sklearn.mixture import GaussianMixture\n",
        "from sklearn.metrics import silhouette_score\n",
        "\n",
        "# Model GMM\n",
        "silhouette_scores_gmm = []\n",
        "k_range = range(2, 11)  # Range jumlah cluster\n",
        "for k in k_range:\n",
        "    gmm = GaussianMixture(n_components=k, random_state=42)\n",
        "    labels = gmm.fit_predict(data_encoded[features])\n",
        "    score = silhouette_score(data_encoded[features], labels)\n",
        "    silhouette_scores_gmm.append(score)\n",
        "\n",
        "# Pilih jumlah cluster optimal berdasarkan Silhouette Score\n",
        "optimal_k_gmm = k_range[silhouette_scores_gmm.index(max(silhouette_scores_gmm))]\n",
        "print(f\"Jumlah cluster optimal dengan GMM: {optimal_k_gmm}\")\n",
        "print(f\"Silhouette Score tertinggi dengan GMM: {max(silhouette_scores_gmm):.3f}\")\n"
      ],
      "metadata": {
        "colab": {
          "base_uri": "https://localhost:8080/"
        },
        "id": "4hJsGYuKpw3g",
        "outputId": "ecf8442a-4abd-4403-99fa-c383470a12d9"
      },
      "execution_count": 35,
      "outputs": [
        {
          "output_type": "stream",
          "name": "stdout",
          "text": [
            "Jumlah cluster optimal dengan GMM: 5\n",
            "Silhouette Score tertinggi dengan GMM: 0.565\n"
          ]
        }
      ]
    },
    {
      "cell_type": "code",
      "source": [
        "# Melatih model dengan jumlah cluster optimal\n",
        "gmm = GaussianMixture(n_components=optimal_k_gmm, random_state=42)\n",
        "data_encoded['Cluster'] = gmm.fit_predict(data_encoded[features])\n",
        "\n",
        "# Menampilkan jumlah data di setiap cluster\n",
        "print(\"Jumlah data di setiap cluster:\")\n",
        "print(data_encoded['Cluster'].value_counts())\n"
      ],
      "metadata": {
        "colab": {
          "base_uri": "https://localhost:8080/"
        },
        "id": "PooGCrDyp8Fd",
        "outputId": "08260642-e8fb-4a77-9a8c-7c1851424ca1"
      },
      "execution_count": 37,
      "outputs": [
        {
          "output_type": "stream",
          "name": "stdout",
          "text": [
            "Jumlah data di setiap cluster:\n",
            "Cluster\n",
            "1    1818\n",
            "2     938\n",
            "0     141\n",
            "4     131\n",
            "3      80\n",
            "Name: count, dtype: int64\n"
          ]
        }
      ]
    },
    {
      "cell_type": "markdown",
      "source": [
        "## **b. Evaluasi Model Clustering**"
      ],
      "metadata": {
        "id": "zsGVwzPKMEvn"
      }
    },
    {
      "cell_type": "markdown",
      "source": [
        "Untuk menentukan jumlah cluster yang optimal dalam model clustering, Anda dapat menggunakan metode Elbow atau Silhouette Score.\n",
        "\n",
        "Metode ini membantu kita menemukan jumlah cluster yang memberikan pemisahan terbaik antar kelompok data, sehingga model yang dibangun dapat lebih efektif. Berikut adalah **rekomendasi** tahapannya.\n",
        "1. Gunakan Silhouette Score dan Elbow Method untuk menentukan jumlah cluster optimal.\n",
        "2. Hitung Silhouette Score sebagai ukuran kualitas cluster."
      ],
      "metadata": {
        "id": "qk63ew39MeBf"
      }
    },
    {
      "cell_type": "code",
      "source": [
        "from sklearn.metrics import silhouette_score\n",
        "\n",
        "# Evaluasi model dengan Silhouette Score\n",
        "silhouette_avg = silhouette_score(data_encoded[features], data_encoded['Cluster'])\n",
        "print(f\"Silhouette Score: {silhouette_avg:.3f}\")\n",
        "\n",
        "if silhouette_avg >= 0.55:\n",
        "    print(\"Model memenuhi kriteria dengan Silhouette Score >= 0.55\")\n",
        "else:\n",
        "    print(\"Model belum memenuhi kriteria. Silhouette Score terlalu rendah.\")\n",
        "\n"
      ],
      "metadata": {
        "id": "yrPkK_bvM-Ya",
        "colab": {
          "base_uri": "https://localhost:8080/"
        },
        "outputId": "78530f9c-b5ce-4264-c0d3-01bb91660a59"
      },
      "execution_count": 38,
      "outputs": [
        {
          "output_type": "stream",
          "name": "stdout",
          "text": [
            "Silhouette Score: 0.565\n",
            "Model memenuhi kriteria dengan Silhouette Score >= 0.55\n"
          ]
        }
      ]
    },
    {
      "cell_type": "markdown",
      "source": [
        "## **c. Feature Selection (Opsional)** tidak menggunakan ini"
      ],
      "metadata": {
        "id": "vWZp5vKNQddd"
      }
    },
    {
      "cell_type": "markdown",
      "source": [
        "Silakan lakukan feature selection jika Anda membutuhkan optimasi model clustering. Jika Anda menerapkan proses ini, silakan lakukan pemodelan dan evaluasi kembali menggunakan kolom-kolom hasil feature selection. Terakhir, bandingkan hasil performa model sebelum dan sesudah menerapkan feature selection."
      ],
      "metadata": {
        "id": "QIHKgE07Q4c0"
      }
    },
    {
      "cell_type": "markdown",
      "source": [
        "## **d. Visualisasi Hasil Clustering**"
      ],
      "metadata": {
        "id": "nn01TKkLLRiF"
      }
    },
    {
      "cell_type": "markdown",
      "source": [
        "Setelah model clustering dilatih dan jumlah cluster optimal ditentukan, langkah selanjutnya adalah menampilkan hasil clustering melalui visualisasi.\n",
        "\n",
        "Berikut adalah **rekomendasi** tahapannya.\n",
        "1. Tampilkan hasil clustering dalam bentuk visualisasi, seperti grafik scatter plot atau 2D PCA projection."
      ],
      "metadata": {
        "id": "gaz0fnhhMkRI"
      }
    },
    {
      "cell_type": "code",
      "source": [
        "gmm = GaussianMixture(n_components=optimal_k_gmm, random_state=42)\n",
        "data_encoded['Cluster_GMM'] = gmm.fit_predict(data_encoded[features])\n",
        "\n",
        "#Visualisasi Hasil Clustering dengan PCA\n",
        "from sklearn.decomposition import PCA\n",
        "import matplotlib.pyplot as plt\n",
        "import seaborn as sns\n",
        "\n",
        "pca = PCA(n_components=2)\n",
        "pca_result = pca.fit_transform(data_encoded[features])\n",
        "data_encoded['PCA1'] = pca_result[:, 0]\n",
        "data_encoded['PCA2'] = pca_result[:, 1]\n",
        "\n",
        "plt.figure(figsize=(10, 6))\n",
        "sns.scatterplot(data=data_encoded, x='PCA1', y='PCA2', hue='Cluster_GMM', palette='viridis', alpha=0.7)\n",
        "plt.title('Hasil Clustering dengan Gaussian Mixture Model')\n",
        "plt.xlabel('PCA Component 1')\n",
        "plt.ylabel('PCA Component 2')\n",
        "plt.legend(title='Cluster')\n",
        "plt.show()\n"
      ],
      "metadata": {
        "id": "lfOjVvfYM-4v",
        "colab": {
          "base_uri": "https://localhost:8080/",
          "height": 564
        },
        "outputId": "c88b1557-f6c4-4bcc-a943-9a927c26b248"
      },
      "execution_count": 39,
      "outputs": [
        {
          "output_type": "display_data",
          "data": {
            "text/plain": [
              "<Figure size 1000x600 with 1 Axes>"
            ],
            "image/png": "[encoded data removed]"
          },
          "metadata": {}
        }
      ]
    },
    {
      "cell_type": "markdown",
      "source": [
        "## **e. Analisis dan Interpretasi Hasil Cluster**"
      ],
      "metadata": {
        "id": "X4eydPWJLH4I"
      }
    },
    {
      "cell_type": "markdown",
      "source": [
        "Setelah melakukan clustering, langkah selanjutnya adalah menganalisis karakteristik dari masing-masing cluster berdasarkan fitur yang tersedia.\n",
        "\n",
        "Berikut adalah **rekomendasi** tahapannya.\n",
        "1. Analisis karakteristik tiap cluster berdasarkan fitur yang tersedia (misalnya, distribusi nilai dalam cluster).\n",
        "2. Berikan interpretasi: Apakah hasil clustering sesuai dengan ekspektasi dan logika bisnis? Apakah ada pola tertentu yang bisa dimanfaatkan?"
      ],
      "metadata": {
        "id": "SENfLnfRMpC-"
      }
    },
    {
      "cell_type": "code",
      "source": [
        "# Analisis karakteristik tiap cluster\n",
        "for cluster in sorted(data_encoded['Cluster'].unique()):\n",
        "    print(f\"\\n{'='*50}\")\n",
        "    print(f\"Cluster {cluster}\")\n",
        "    print(f\"{'='*50}\")\n",
        "\n",
        "    cluster_data = data_encoded[data_encoded['Cluster'] == cluster]\n",
        "\n",
        "    # Ukuran cluster\n",
        "    print(f\"Jumlah Data: {len(cluster_data)} ({(len(cluster_data)/len(data_encoded)*100):.1f}% dari total)\")\n",
        "\n",
        "    # Statistik UnitPrice dan Quantity\n",
        "    print(\"\\nStatistik Deskriptif:\")\n",
        "    print(f\"UnitPrice (standardized):\")\n",
        "    print(f\"- Mean: {cluster_data['UnitPrice'].mean():.2f}\")\n",
        "    print(f\"- Std: {cluster_data['UnitPrice'].std():.2f}\")\n",
        "\n",
        "    print(f\"\\nQuantity (standardized):\")\n",
        "    print(f\"- Mean: {cluster_data['Quantity'].mean():.2f}\")\n",
        "    print(f\"- Std: {cluster_data['Quantity'].std():.2f}\")\n",
        "\n",
        "    # Distribusi negara\n",
        "    country_columns = [col for col in data_encoded.columns if 'Country_' in col]\n",
        "    country_dist = cluster_data[country_columns].sum().sort_values(ascending=False)\n",
        "\n",
        "    print(\"\\nTop 5 Negara:\")\n",
        "    for country, count in country_dist.head().items():\n",
        "        country_name = country.replace('Country_', '')\n",
        "        percentage = (count/len(cluster_data)*100)\n",
        "        print(f\"- {country_name}: {percentage:.1f}%\")\n",
        "\n",
        "    # Interpretasi cluster\n",
        "    print(\"\\nInterpretasi:\")\n",
        "    if cluster_data['UnitPrice'].mean() > 0.5:\n",
        "        price_segment = \"premium (high-value)\"\n",
        "    elif cluster_data['UnitPrice'].mean() < -0.5:\n",
        "        price_segment = \"budget (low-value)\"\n",
        "    else:\n",
        "        price_segment = \"mid-range\"\n",
        "\n",
        "    print(f\"Cluster ini merepresentasikan segmen {price_segment}\")\n",
        "    print(f\"dengan konsentrasi tinggi di {country_dist.index[0].replace('Country_', '')}\")\n",
        "\n",
        "    if cluster_data['Quantity'].mean() > 0.5:\n",
        "        print(\"Pelanggan cenderung membeli dalam jumlah besar\")\n",
        "    elif cluster_data['Quantity'].mean() < -0.5:\n",
        "        print(\"Pelanggan cenderung membeli dalam jumlah kecil\")\n",
        "    else:\n",
        "        print(\"Pelanggan membeli dalam jumlah sedang\")"
      ],
      "metadata": {
        "id": "v3A0R5iYxEEV",
        "outputId": "d11d706e-bc3e-4b6b-8b8b-3400d614244f",
        "colab": {
          "base_uri": "https://localhost:8080/"
        }
      },
      "execution_count": 51,
      "outputs": [
        {
          "output_type": "stream",
          "name": "stdout",
          "text": [
            "\n",
            "==================================================\n",
            "Cluster 0\n",
            "==================================================\n",
            "Jumlah Data: 141 (4.5% dari total)\n",
            "\n",
            "Statistik Deskriptif:\n",
            "UnitPrice (standardized):\n",
            "- Mean: 0.25\n",
            "- Std: 1.16\n",
            "\n",
            "Quantity (standardized):\n",
            "- Mean: 0.54\n",
            "- Std: 1.06\n",
            "\n",
            "Top 5 Negara:\n",
            "- Germany: 52.5%\n",
            "- EIRE: 39.0%\n",
            "- Portugal: 8.5%\n",
            "- Austria: 0.0%\n",
            "- Channel Islands: 0.0%\n",
            "\n",
            "Interpretasi:\n",
            "Cluster ini merepresentasikan segmen mid-range\n",
            "dengan konsentrasi tinggi di Germany\n",
            "Pelanggan cenderung membeli dalam jumlah besar\n",
            "\n",
            "==================================================\n",
            "Cluster 1\n",
            "==================================================\n",
            "Jumlah Data: 1818 (58.5% dari total)\n",
            "\n",
            "Statistik Deskriptif:\n",
            "UnitPrice (standardized):\n",
            "- Mean: -0.61\n",
            "- Std: 0.37\n",
            "\n",
            "Quantity (standardized):\n",
            "- Mean: 0.14\n",
            "- Std: 1.07\n",
            "\n",
            "Top 5 Negara:\n",
            "- United Kingdom: 100.0%\n",
            "- Austria: 0.0%\n",
            "- Canada: 0.0%\n",
            "- Belgium: 0.0%\n",
            "- Cyprus: 0.0%\n",
            "\n",
            "Interpretasi:\n",
            "Cluster ini merepresentasikan segmen budget (low-value)\n",
            "dengan konsentrasi tinggi di United Kingdom\n",
            "Pelanggan membeli dalam jumlah sedang\n",
            "\n",
            "==================================================\n",
            "Cluster 2\n",
            "==================================================\n",
            "Jumlah Data: 938 (30.2% dari total)\n",
            "\n",
            "Statistik Deskriptif:\n",
            "UnitPrice (standardized):\n",
            "- Mean: 1.16\n",
            "- Std: 0.78\n",
            "\n",
            "Quantity (standardized):\n",
            "- Mean: -0.45\n",
            "- Std: 0.64\n",
            "\n",
            "Top 5 Negara:\n",
            "- United Kingdom: 100.0%\n",
            "- Austria: 0.0%\n",
            "- Canada: 0.0%\n",
            "- Belgium: 0.0%\n",
            "- Cyprus: 0.0%\n",
            "\n",
            "Interpretasi:\n",
            "Cluster ini merepresentasikan segmen premium (high-value)\n",
            "dengan konsentrasi tinggi di United Kingdom\n",
            "Pelanggan membeli dalam jumlah sedang\n",
            "\n",
            "==================================================\n",
            "Cluster 3\n",
            "==================================================\n",
            "Jumlah Data: 80 (2.6% dari total)\n",
            "\n",
            "Statistik Deskriptif:\n",
            "UnitPrice (standardized):\n",
            "- Mean: -0.06\n",
            "- Std: 0.86\n",
            "\n",
            "Quantity (standardized):\n",
            "- Mean: 0.53\n",
            "- Std: 0.97\n",
            "\n",
            "Top 5 Negara:\n",
            "- France: 98.8%\n",
            "- Greece: 1.2%\n",
            "- Austria: 0.0%\n",
            "- Belgium: 0.0%\n",
            "- Channel Islands: 0.0%\n",
            "\n",
            "Interpretasi:\n",
            "Cluster ini merepresentasikan segmen mid-range\n",
            "dengan konsentrasi tinggi di France\n",
            "Pelanggan cenderung membeli dalam jumlah besar\n",
            "\n",
            "==================================================\n",
            "Cluster 4\n",
            "==================================================\n",
            "Jumlah Data: 131 (4.2% dari total)\n",
            "\n",
            "Statistik Deskriptif:\n",
            "UnitPrice (standardized):\n",
            "- Mean: -0.09\n",
            "- Std: 0.84\n",
            "\n",
            "Quantity (standardized):\n",
            "- Mean: 0.45\n",
            "- Std: 0.93\n",
            "\n",
            "Top 5 Negara:\n",
            "- Spain: 22.1%\n",
            "- Belgium: 14.5%\n",
            "- Switzerland: 10.7%\n",
            "- Channel Islands: 4.6%\n",
            "- Sweden: 4.6%\n",
            "\n",
            "Interpretasi:\n",
            "Cluster ini merepresentasikan segmen mid-range\n",
            "dengan konsentrasi tinggi di Spain\n",
            "Pelanggan membeli dalam jumlah sedang\n"
          ]
        }
      ]
    },
    {
      "cell_type": "markdown",
      "source": [
        "Tulis hasil interpretasinya di sini.\n",
        "\n",
        "1. Cluster 0: Segmen Mid-Range German Buyers\n",
        "\n",
        "    Merupakan 4.5% dari total pelanggan (141 pelanggan)\n",
        "    Karakteristik:\n",
        "\n",
        "    UnitPrice menengah (mean: 0.25)\n",
        "    Volume pembelian tinggi (mean Quantity: 0.54)\n",
        "    Didominasi oleh pelanggan dari Jerman (52.5%) dan Irlandia (39%)\n",
        "\n",
        "  Interpretasi: Cluster ini merepresentasikan pelanggan yang membeli dalam jumlah besar dengan harga menengah, terutama dari pasar Jerman dan Irlandia. Pola ini menunjukkan kemungkinan segmen wholesaler atau distributor menengah di kawasan tersebut.\n",
        "\n",
        "2. Cluster 1: Segmen Value UK Shoppers\n",
        "\n",
        "    Merupakan cluster terbesar dengan 58.5% dari total pelanggan (1,818 pelanggan)\n",
        "    Karakteristik:\n",
        "\n",
        "    UnitPrice rendah (mean: -0.61)\n",
        "    Volume pembelian menengah (mean Quantity: 0.14)\n",
        "    Eksklusif pelanggan UK (100%)\n",
        "\n",
        "\n",
        "  Interpretasi: Ini adalah segmen mass market di UK yang fokus pada produk-produk dengan harga lebih terjangkau. Besarnya ukuran cluster ini menunjukkan bahwa ini adalah basis pelanggan utama perusahaan.\n",
        "\n",
        "3. Cluster 2: Segmen Premium UK Market\n",
        "\n",
        "    Merupakan 30.2% dari total pelanggan (938 pelanggan)\n",
        "    Karakteristik:\n",
        "\n",
        "    UnitPrice sangat tinggi (mean: 1.16)\n",
        "    Volume pembelian cenderung rendah (mean Quantity: -0.45)\n",
        "    Eksklusif pelanggan UK (100%)\n",
        "\n",
        "  Interpretasi: Cluster ini merepresentasikan segmen premium di pasar UK, dengan fokus pada produk-produk bernilai tinggi namun dalam kuantitas yang lebih kecil. Kemungkinan merupakan pelanggan ritel high-end atau specialty stores.\n",
        "\n",
        "4. Cluster 3: Segmen French Volume Buyers\n",
        "\n",
        "Merupakan 2.6% dari total pelanggan (80 pelanggan)\n",
        "Karakteristik:\n",
        "\n",
        "UnitPrice menengah (mean: -0.06)\n",
        "Volume pembelian tinggi (mean Quantity: 0.53)\n",
        "Hampir eksklusif pelanggan Prancis (98.8%)\n",
        "\n",
        "\n",
        "Interpretasi: Cluster ini merepresentasikan pelanggan Prancis yang membeli dalam volume besar dengan harga menengah, menunjukkan kemungkinan segmen distributor atau retail chain di pasar Prancis.\n",
        "\n",
        "5. Cluster 4: Segmen European Mixed Market\n",
        "\n",
        "    Merupakan 4.2% dari total pelanggan (131 pelanggan)\n",
        "    Karakteristik:\n",
        "\n",
        "    UnitPrice menengah (mean: -0.09)\n",
        "    Volume pembelian menengah ke tinggi (mean Quantity: 0.45)\n",
        "    Tersebar di berbagai negara Eropa (Spanyol 22.1%, Belgia 14.5%, Swiss 10.7%)\n",
        "\n",
        "\n",
        "  Interpretasi: Cluster ini merepresentasikan segmen pasar yang lebih terdiversifikasi di Eropa, dengan pola pembelian menengah baik dari segi harga maupun volume."
      ],
      "metadata": {
        "id": "JfgVMEBDS3KG"
      }
    },
    {
      "cell_type": "markdown",
      "source": [
        "# **7. Mengeksport Data**\n",
        "\n",
        "Simpan hasilnya ke dalam file CSV."
      ],
      "metadata": {
        "id": "jaYP1fx5VgWO"
      }
    },
    {
      "cell_type": "code",
      "source": [
        "# Mengeksport Data\n",
        "data_sampled.to_csv('/content/drive/MyDrive/E-CommerceSales/clustered_data.csv', index=False)"
      ],
      "metadata": {
        "id": "fkbg_o80aRSH"
      },
      "execution_count": null,
      "outputs": []
    }
  ]
}